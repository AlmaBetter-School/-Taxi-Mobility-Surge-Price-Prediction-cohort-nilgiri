{
  "nbformat": 4,
  "nbformat_minor": 0,
  "metadata": {
    "colab": {
      "name": "Bhanu P Shahi- 10/05/2021 - [Team 2] Capstone Project 2 Taxi Mobility Surge Price Prediction.ipynb",
      "provenance": [],
      "collapsed_sections": [],
      "authorship_tag": "ABX9TyNXQB/9FG0PF7pC9xDeQhGb",
      "include_colab_link": true
    },
    "kernelspec": {
      "name": "python3",
      "display_name": "Python 3"
    },
    "language_info": {
      "name": "python"
    }
  },
  "cells": [
    {
      "cell_type": "markdown",
      "metadata": {
        "id": "view-in-github",
        "colab_type": "text"
      },
      "source": [
        "<a href=\"https://colab.research.google.com/github/BhanuPShahi/-Taxi-Mobility-Surge-Price-Prediction/blob/main/Bhanu_P_Shahi_10_05_2021_%5BTeam_2%5D_Capstone_Project_2_Taxi_Mobility_Surge_Price_Prediction.ipynb\" target=\"_parent\"><img src=\"https://colab.research.google.com/assets/colab-badge.svg\" alt=\"Open In Colab\"/></a>"
      ]
    },
    {
      "cell_type": "markdown",
      "metadata": {
        "id": "ElgR6WEqLtzX"
      },
      "source": [
        "#**Taxi Mobility Surge Price Prediction**"
      ]
    },
    {
      "cell_type": "markdown",
      "metadata": {
        "id": "0kFLwAWBjrFo"
      },
      "source": [
        "Data provided by an Indian cab aggregator service Sigma Cabs. Their customers can download their app on smartphones and book a cab from anywhere in the cities they operate in. They, in turn, search for cabs from various service providers and provide the best option to their clients across available options. They have been in operation for a little less than a year now. During this period, they have captured surge pricing types from the service providers.\n",
        "The main objective is to build a predictive model, which could help them in predicting the surge pricing type proactively. This would in turn help them in matching the right cabs with the right customers quickly and efficiently.\n",
        "* Trip_ID: ID for TRIP\n",
        "* Trip_Distance: The distance for the trip requested by the customer\n",
        "* TypeofCab: Category of the cab requested by the customer\n",
        "* CustomerSinceMonths: Customer using cab services since n months; 0 month means the current month\n",
        "* LifeStyleIndex: Proprietary index created by Sigma Cabs showing the lifestyle of the customer based on their behaviour\n",
        "* ConfidenceLifeStyle_Index: Category showing confidence on the index mentioned above\n",
        "* Destination_Type: Sigma Cabs divides any destination into one of the 14 categories.\n",
        "* Customer_Rating: Average of lifetime ratings of the customer till date\n",
        "CancellationLast1Month: Number of trips cancelled by the customer in last 1 month\n",
        "* Var1, Var2 and Var3: Continuous variables masked by the company. Can be used for modelling purposes\n",
        "* Gender: Gender of the customer\n",
        "* SurgePricingType: Target (can be of 3 types) - DV\n"
      ]
    },
    {
      "cell_type": "markdown",
      "metadata": {
        "id": "sSTq2RP75yHs"
      },
      "source": [
        "#**Introduction**\n",
        "###The cab platforms adjust their prices using a specific algorithm which is real time and dynamic known as **“Surge Pricing”** or **“Dynamic Pricing”**. This algorithm automatically raises the price of a trip when the demand increases more than the supply. The surge algorithm generally outputs a multiplier which is adjusted along with the base fare, the price per mile and the price per minute to generate the final price. This price is communicated to the riders and the ride is initiated when they confirm to the price shown. This surge multiplier is kept discrete and may range from 1.2 to the maximum allowed by the government based on geography. \n",
        "\n",
        "###Our goal here is to build a predictive model, which could help them in predicting the surge pricing type proactively."
      ]
    },
    {
      "cell_type": "markdown",
      "metadata": {
        "id": "-dx9eMr4rlSu"
      },
      "source": [
        "##**Types of Pricing**\n",
        "* Static Pricing\n",
        "* Dynamic Pricing(Surge Pricing)\n",
        "\n",
        "###The distance and travel time based taxi pricing scheme (Static Pricing) has been prevalent for decades. One major drawback of the current taxi price is that it fails to take the time of day into consideration while the demand in the market is time sensitive. So there is a need of Dynamic pricing."
      ]
    },
    {
      "cell_type": "markdown",
      "metadata": {
        "id": "ealzedscoo9i"
      },
      "source": [
        "##**Reasons for surge pricing**\n",
        "The reasons for surge pricing are:\n",
        "* normal peak-hours\n",
        "* bad weather conditions (rain, snow, etc)\n",
        "* events (concerts, movie-premiere)\n",
        "* traffic conditions\n",
        "* unseen emergencies and so on."
      ]
    },
    {
      "cell_type": "markdown",
      "metadata": {
        "id": "YmkBrmkAnRnN"
      },
      "source": [
        "#**How Surge pricing works**\n",
        "\n",
        "##Demand for rides increases\n",
        "There are times when so many people are requesting rides that there aren’t enough cars on the road to help take them all. Bad weather, rush hour, and special events, for instance, may cause unusually large numbers of people to want to request a ride with Uber all at the same time.\n",
        "\n",
        "##Prices go up\n",
        "In these cases of very high demand, prices may increase to help ensure that those who need a ride can get one. This system is called surge pricing, and it lets the Uber app continue to be a reliable choice.\n",
        "\n",
        "##Riders pay more or wait\n",
        "Whenever rates are raised due to surge pricing, the Uber app lets riders know. Some riders will choose to pay, while some will choose to wait a few minutes to see if the rates go back down."
      ]
    },
    {
      "cell_type": "markdown",
      "metadata": {
        "id": "2P0ScYIz8xpL"
      },
      "source": [
        "##So far we have seen and build the concepts around Surge pricing. Now let's start some practical implementation with the data."
      ]
    },
    {
      "cell_type": "markdown",
      "metadata": {
        "id": "_OgvMWQ_l4F_"
      },
      "source": [
        "#Importing Libraries"
      ]
    },
    {
      "cell_type": "code",
      "metadata": {
        "colab": {
          "base_uri": "https://localhost:8080/"
        },
        "id": "Hd7hqVnAmy7f",
        "outputId": "b169b8f5-0508-4d77-be3b-37b650513762"
      },
      "source": [
        "pip install scikit-optimize"
      ],
      "execution_count": null,
      "outputs": [
        {
          "output_type": "stream",
          "text": [
            "Collecting scikit-optimize\n",
            "\u001b[?25l  Downloading https://files.pythonhosted.org/packages/8b/03/be33e89f55866065a02e515c5b319304a801a9f1027a9b311a9b1d1f8dc7/scikit_optimize-0.8.1-py2.py3-none-any.whl (101kB)\n",
            "\r\u001b[K     |███▎                            | 10kB 9.2MB/s eta 0:00:01\r\u001b[K     |██████▌                         | 20kB 12.5MB/s eta 0:00:01\r\u001b[K     |█████████▊                      | 30kB 11.5MB/s eta 0:00:01\r\u001b[K     |█████████████                   | 40kB 9.7MB/s eta 0:00:01\r\u001b[K     |████████████████▏               | 51kB 5.3MB/s eta 0:00:01\r\u001b[K     |███████████████████▍            | 61kB 5.8MB/s eta 0:00:01\r\u001b[K     |██████████████████████▊         | 71kB 5.6MB/s eta 0:00:01\r\u001b[K     |██████████████████████████      | 81kB 5.9MB/s eta 0:00:01\r\u001b[K     |█████████████████████████████▏  | 92kB 6.2MB/s eta 0:00:01\r\u001b[K     |████████████████████████████████| 102kB 3.7MB/s \n",
            "\u001b[?25hRequirement already satisfied: numpy>=1.13.3 in /usr/local/lib/python3.7/dist-packages (from scikit-optimize) (1.19.5)\n",
            "Requirement already satisfied: scipy>=0.19.1 in /usr/local/lib/python3.7/dist-packages (from scikit-optimize) (1.4.1)\n",
            "Collecting pyaml>=16.9\n",
            "  Downloading https://files.pythonhosted.org/packages/15/c4/1310a054d33abc318426a956e7d6df0df76a6ddfa9c66f6310274fb75d42/pyaml-20.4.0-py2.py3-none-any.whl\n",
            "Requirement already satisfied: scikit-learn>=0.20.0 in /usr/local/lib/python3.7/dist-packages (from scikit-optimize) (0.22.2.post1)\n",
            "Requirement already satisfied: joblib>=0.11 in /usr/local/lib/python3.7/dist-packages (from scikit-optimize) (1.0.1)\n",
            "Requirement already satisfied: PyYAML in /usr/local/lib/python3.7/dist-packages (from pyaml>=16.9->scikit-optimize) (3.13)\n",
            "Installing collected packages: pyaml, scikit-optimize\n",
            "Successfully installed pyaml-20.4.0 scikit-optimize-0.8.1\n"
          ],
          "name": "stdout"
        }
      ]
    },
    {
      "cell_type": "code",
      "metadata": {
        "id": "5PylFlNyl9Mr"
      },
      "source": [
        "import pandas as pd\n",
        "import numpy as np\n",
        "from datetime import datetime\n",
        "import seaborn as sns\n",
        "import matplotlib.pyplot as plt\n",
        "%matplotlib inline\n",
        "\n",
        "\n",
        "from sklearn.model_selection import train_test_split\n",
        "from sklearn.preprocessing import OneHotEncoder\n",
        "from sklearn.model_selection import GridSearchCV\n",
        "from sklearn.model_selection import RandomizedSearchCV\n",
        "from skopt import BayesSearchCV\n",
        "from skopt.space import Real, Categorical, Integer\n",
        "from sklearn import ensemble\n",
        "\n",
        "import warnings\n",
        "warnings.filterwarnings('ignore')"
      ],
      "execution_count": null,
      "outputs": []
    },
    {
      "cell_type": "markdown",
      "metadata": {
        "id": "_CrWRaAXmCk5"
      },
      "source": [
        "#Loading the data set"
      ]
    },
    {
      "cell_type": "code",
      "metadata": {
        "colab": {
          "base_uri": "https://localhost:8080/"
        },
        "id": "hnix-5p5KdfD",
        "outputId": "aedc0c46-bb94-4fd2-8b7a-36f1bd564630"
      },
      "source": [
        "#mounting the drive\n",
        "from google.colab import drive\n",
        "drive.mount('/content/drive')"
      ],
      "execution_count": null,
      "outputs": [
        {
          "output_type": "stream",
          "text": [
            "Drive already mounted at /content/drive; to attempt to forcibly remount, call drive.mount(\"/content/drive\", force_remount=True).\n"
          ],
          "name": "stdout"
        }
      ]
    },
    {
      "cell_type": "code",
      "metadata": {
        "id": "egvDjsP4mIv9"
      },
      "source": [
        "#loading the data file and creating a dataframe\n",
        "path='/content/drive/MyDrive/AlmaBetter/Cohort Nilgiri/Capstone Projects/Taxi Mobility Surge Price Prediction/data_sigma_cabs.csv'\n",
        "df=pd.read_csv(path)"
      ],
      "execution_count": null,
      "outputs": []
    },
    {
      "cell_type": "markdown",
      "metadata": {
        "id": "2IvW9_ghbkby"
      },
      "source": [
        "#**Exploratory Data Analysis**"
      ]
    },
    {
      "cell_type": "markdown",
      "metadata": {
        "id": "yo4d7hKn9_yk"
      },
      "source": [
        "###Let's start with doing some exploratory data analysis."
      ]
    },
    {
      "cell_type": "code",
      "metadata": {
        "colab": {
          "base_uri": "https://localhost:8080/"
        },
        "id": "K8s5rveHmvOt",
        "outputId": "04efa463-75a7-4555-e1b6-15a78aceea42"
      },
      "source": [
        "#shape of data\n",
        "df.shape"
      ],
      "execution_count": null,
      "outputs": [
        {
          "output_type": "execute_result",
          "data": {
            "text/plain": [
              "(131662, 14)"
            ]
          },
          "metadata": {
            "tags": []
          },
          "execution_count": 10
        }
      ]
    },
    {
      "cell_type": "markdown",
      "metadata": {
        "id": "V1crGWNF9P1v"
      },
      "source": [
        "* Dataset have 131662 records and 14 features"
      ]
    },
    {
      "cell_type": "code",
      "metadata": {
        "colab": {
          "base_uri": "https://localhost:8080/"
        },
        "id": "U7JwN2f1myUf",
        "outputId": "273e24a6-696c-4800-82d8-2481816fadfe"
      },
      "source": [
        "df.info()"
      ],
      "execution_count": null,
      "outputs": [
        {
          "output_type": "stream",
          "text": [
            "<class 'pandas.core.frame.DataFrame'>\n",
            "RangeIndex: 131662 entries, 0 to 131661\n",
            "Data columns (total 14 columns):\n",
            " #   Column                       Non-Null Count   Dtype  \n",
            "---  ------                       --------------   -----  \n",
            " 0   Trip_ID                      131662 non-null  object \n",
            " 1   Trip_Distance                131662 non-null  float64\n",
            " 2   Type_of_Cab                  111452 non-null  object \n",
            " 3   Customer_Since_Months        125742 non-null  float64\n",
            " 4   Life_Style_Index             111469 non-null  float64\n",
            " 5   Confidence_Life_Style_Index  111469 non-null  object \n",
            " 6   Destination_Type             131662 non-null  object \n",
            " 7   Customer_Rating              131662 non-null  float64\n",
            " 8   Cancellation_Last_1Month     131662 non-null  int64  \n",
            " 9   Var1                         60632 non-null   float64\n",
            " 10  Var2                         131662 non-null  int64  \n",
            " 11  Var3                         131662 non-null  int64  \n",
            " 12  Gender                       131662 non-null  object \n",
            " 13  Surge_Pricing_Type           131662 non-null  int64  \n",
            "dtypes: float64(5), int64(4), object(5)\n",
            "memory usage: 14.1+ MB\n"
          ],
          "name": "stdout"
        }
      ]
    },
    {
      "cell_type": "code",
      "metadata": {
        "colab": {
          "base_uri": "https://localhost:8080/"
        },
        "id": "R8eFyBSK-iBU",
        "outputId": "bd542c7c-0e08-4898-ee6e-a53ae0fd02bf"
      },
      "source": [
        "df.columns"
      ],
      "execution_count": null,
      "outputs": [
        {
          "output_type": "execute_result",
          "data": {
            "text/plain": [
              "Index(['Trip_ID', 'Trip_Distance', 'Type_of_Cab', 'Customer_Since_Months',\n",
              "       'Life_Style_Index', 'Confidence_Life_Style_Index', 'Destination_Type',\n",
              "       'Customer_Rating', 'Cancellation_Last_1Month', 'Var1', 'Var2', 'Var3',\n",
              "       'Gender', 'Surge_Pricing_Type'],\n",
              "      dtype='object')"
            ]
          },
          "metadata": {
            "tags": []
          },
          "execution_count": 12
        }
      ]
    },
    {
      "cell_type": "code",
      "metadata": {
        "colab": {
          "base_uri": "https://localhost:8080/",
          "height": 131
        },
        "id": "QRihndtJmjoK",
        "outputId": "3b3d772d-2735-434a-f907-14e1514b2bfb"
      },
      "source": [
        "df.head(2)"
      ],
      "execution_count": 90,
      "outputs": [
        {
          "output_type": "execute_result",
          "data": {
            "text/html": [
              "<div>\n",
              "<style scoped>\n",
              "    .dataframe tbody tr th:only-of-type {\n",
              "        vertical-align: middle;\n",
              "    }\n",
              "\n",
              "    .dataframe tbody tr th {\n",
              "        vertical-align: top;\n",
              "    }\n",
              "\n",
              "    .dataframe thead th {\n",
              "        text-align: right;\n",
              "    }\n",
              "</style>\n",
              "<table border=\"1\" class=\"dataframe\">\n",
              "  <thead>\n",
              "    <tr style=\"text-align: right;\">\n",
              "      <th></th>\n",
              "      <th>Trip_Distance</th>\n",
              "      <th>Type_of_Cab</th>\n",
              "      <th>Customer_Since_Months</th>\n",
              "      <th>Life_Style_Index</th>\n",
              "      <th>Confidence_Life_Style_Index</th>\n",
              "      <th>Destination_Type</th>\n",
              "      <th>Customer_Rating</th>\n",
              "      <th>Cancellation_Last_1Month</th>\n",
              "      <th>Var2</th>\n",
              "      <th>Var3</th>\n",
              "      <th>Gender</th>\n",
              "      <th>Surge_Pricing_Type</th>\n",
              "    </tr>\n",
              "  </thead>\n",
              "  <tbody>\n",
              "    <tr>\n",
              "      <th>0</th>\n",
              "      <td>6.77</td>\n",
              "      <td>B</td>\n",
              "      <td>1.0</td>\n",
              "      <td>2.42769</td>\n",
              "      <td>A</td>\n",
              "      <td>A</td>\n",
              "      <td>3.905</td>\n",
              "      <td>0</td>\n",
              "      <td>46</td>\n",
              "      <td>60</td>\n",
              "      <td>Female</td>\n",
              "      <td>2</td>\n",
              "    </tr>\n",
              "    <tr>\n",
              "      <th>1</th>\n",
              "      <td>29.47</td>\n",
              "      <td>B</td>\n",
              "      <td>10.0</td>\n",
              "      <td>2.78245</td>\n",
              "      <td>B</td>\n",
              "      <td>A</td>\n",
              "      <td>3.450</td>\n",
              "      <td>0</td>\n",
              "      <td>56</td>\n",
              "      <td>78</td>\n",
              "      <td>Male</td>\n",
              "      <td>2</td>\n",
              "    </tr>\n",
              "  </tbody>\n",
              "</table>\n",
              "</div>"
            ],
            "text/plain": [
              "   Trip_Distance Type_of_Cab  ...  Gender  Surge_Pricing_Type\n",
              "0           6.77           B  ...  Female                   2\n",
              "1          29.47           B  ...    Male                   2\n",
              "\n",
              "[2 rows x 12 columns]"
            ]
          },
          "metadata": {
            "tags": []
          },
          "execution_count": 90
        }
      ]
    },
    {
      "cell_type": "code",
      "metadata": {
        "colab": {
          "base_uri": "https://localhost:8080/"
        },
        "id": "rbLJp3t-chOw",
        "outputId": "24c311e0-e7b5-492d-de54-38a95ac2943f"
      },
      "source": [
        "#checking for duplicacy in the dataset\n",
        "df.duplicated().sum()"
      ],
      "execution_count": null,
      "outputs": [
        {
          "output_type": "execute_result",
          "data": {
            "text/plain": [
              "0"
            ]
          },
          "metadata": {
            "tags": []
          },
          "execution_count": 14
        }
      ]
    },
    {
      "cell_type": "markdown",
      "metadata": {
        "id": "hZaTuluJKHQL"
      },
      "source": [
        "##We start with the analysis of our dependent variable **Surge_Pricing_Type**"
      ]
    },
    {
      "cell_type": "code",
      "metadata": {
        "colab": {
          "base_uri": "https://localhost:8080/"
        },
        "id": "mtDekdg4mn1R",
        "outputId": "5136228a-bd4b-4167-8ab1-ceaacc940607"
      },
      "source": [
        "df.Surge_Pricing_Type.value_counts()"
      ],
      "execution_count": null,
      "outputs": [
        {
          "output_type": "execute_result",
          "data": {
            "text/plain": [
              "2    56728\n",
              "3    47720\n",
              "1    27214\n",
              "Name: Surge_Pricing_Type, dtype: int64"
            ]
          },
          "metadata": {
            "tags": []
          },
          "execution_count": 15
        }
      ]
    },
    {
      "cell_type": "markdown",
      "metadata": {
        "id": "r_vY42DjKa1z"
      },
      "source": [
        "* **Here we can see that it's a Multiclass classification problem having imbalanced target variables.**"
      ]
    },
    {
      "cell_type": "code",
      "metadata": {
        "colab": {
          "base_uri": "https://localhost:8080/",
          "height": 297
        },
        "id": "FkFLXsYngzKQ",
        "outputId": "db01da3e-35c3-41b5-b50d-a4a83e09a151"
      },
      "source": [
        "sns.countplot(df['Surge_Pricing_Type'])"
      ],
      "execution_count": null,
      "outputs": [
        {
          "output_type": "execute_result",
          "data": {
            "text/plain": [
              "<matplotlib.axes._subplots.AxesSubplot at 0x7f147b94b790>"
            ]
          },
          "metadata": {
            "tags": []
          },
          "execution_count": 16
        },
        {
          "output_type": "display_data",
          "data": {
            "image/png": "[encoded data removed]",
            "text/plain": [
              "<Figure size 432x288 with 1 Axes>"
            ]
          },
          "metadata": {
            "tags": [],
            "needs_background": "light"
          }
        }
      ]
    },
    {
      "cell_type": "code",
      "metadata": {
        "colab": {
          "base_uri": "https://localhost:8080/",
          "height": 572
        },
        "id": "YhbUyv0cBbXQ",
        "outputId": "b539f742-87e9-4137-8de7-0e24cb838d4a"
      },
      "source": [
        "#let's plot countplots of some features\n",
        "fig,axes=plt.subplots(2,3, figsize=(20,8),sharey=True)\n",
        "fig.suptitle('Count plot of various Features')\n",
        "#1\n",
        "sns.countplot(ax=axes[0,0],x=df['Type_of_Cab'])\n",
        "#2\n",
        "sns.countplot(ax=axes[0,1],x=df['Customer_Since_Months'])\n",
        "#3\n",
        "sns.countplot(ax=axes[0,2],x=df['Confidence_Life_Style_Index'])\n",
        "#4\n",
        "sns.countplot(ax=axes[1,0],x=df['Destination_Type'])\n",
        "#5\n",
        "sns.countplot(ax=axes[1,1],x=df['Cancellation_Last_1Month'])\n",
        "#6\n",
        "sns.countplot(ax=axes[1,2],x=df['Gender'])"
      ],
      "execution_count": null,
      "outputs": [
        {
          "output_type": "execute_result",
          "data": {
            "text/plain": [
              "<matplotlib.axes._subplots.AxesSubplot at 0x7f1474d0a450>"
            ]
          },
          "metadata": {
            "tags": []
          },
          "execution_count": 17
        },
        {
          "output_type": "display_data",
          "data": {
            "image/png": "[encoded data removed]",
            "text/plain": [
              "<Figure size 1440x576 with 6 Axes>"
            ]
          },
          "metadata": {
            "tags": [],
            "needs_background": "light"
          }
        }
      ]
    },
    {
      "cell_type": "code",
      "metadata": {
        "colab": {
          "base_uri": "https://localhost:8080/",
          "height": 409
        },
        "id": "VrLZz1sX3J6D",
        "outputId": "bcff842c-1cde-4a94-9a24-794f7a11ad3b"
      },
      "source": [
        "plt.figure(figsize=(12,6))\n",
        "sns.countplot(x ='Type_of_Cab', data = df,order=['A','B','C','D','E'],hue='Surge_Pricing_Type')"
      ],
      "execution_count": null,
      "outputs": [
        {
          "output_type": "execute_result",
          "data": {
            "text/plain": [
              "<matplotlib.axes._subplots.AxesSubplot at 0x7f1474b9cd50>"
            ]
          },
          "metadata": {
            "tags": []
          },
          "execution_count": 18
        },
        {
          "output_type": "display_data",
          "data": {
            "image/png": "[encoded data removed]",
            "text/plain": [
              "<Figure size 864x432 with 1 Axes>"
            ]
          },
          "metadata": {
            "tags": [],
            "needs_background": "light"
          }
        }
      ]
    },
    {
      "cell_type": "code",
      "metadata": {
        "colab": {
          "base_uri": "https://localhost:8080/",
          "height": 406
        },
        "id": "Nnd75WE8CZia",
        "outputId": "143ffed8-d80b-43f4-f013-6a7e91c7f15d"
      },
      "source": [
        "plt.figure(figsize=(12,6))\n",
        "sns.countplot(x ='Customer_Since_Months', data = df,hue='Surge_Pricing_Type')"
      ],
      "execution_count": null,
      "outputs": [
        {
          "output_type": "execute_result",
          "data": {
            "text/plain": [
              "<matplotlib.axes._subplots.AxesSubplot at 0x7f1474ba5050>"
            ]
          },
          "metadata": {
            "tags": []
          },
          "execution_count": 19
        },
        {
          "output_type": "display_data",
          "data": {
            "image/png": "[encoded data removed]",
            "text/plain": [
              "<Figure size 864x432 with 1 Axes>"
            ]
          },
          "metadata": {
            "tags": [],
            "needs_background": "light"
          }
        }
      ]
    },
    {
      "cell_type": "code",
      "metadata": {
        "colab": {
          "base_uri": "https://localhost:8080/",
          "height": 406
        },
        "id": "aYrGRkVMCru1",
        "outputId": "482d88a8-3976-4578-b68a-929ecbf4e801"
      },
      "source": [
        "plt.figure(figsize=(12,6))\n",
        "sns.countplot(x ='Confidence_Life_Style_Index', data = df,hue='Surge_Pricing_Type')"
      ],
      "execution_count": null,
      "outputs": [
        {
          "output_type": "execute_result",
          "data": {
            "text/plain": [
              "<matplotlib.axes._subplots.AxesSubplot at 0x7f1474b81490>"
            ]
          },
          "metadata": {
            "tags": []
          },
          "execution_count": 20
        },
        {
          "output_type": "display_data",
          "data": {
            "image/png": "[encoded data removed]",
            "text/plain": [
              "<Figure size 864x432 with 1 Axes>"
            ]
          },
          "metadata": {
            "tags": [],
            "needs_background": "light"
          }
        }
      ]
    },
    {
      "cell_type": "code",
      "metadata": {
        "colab": {
          "base_uri": "https://localhost:8080/",
          "height": 406
        },
        "id": "ZluJp_8YDCH9",
        "outputId": "d07b89d3-edaa-4ad7-bad8-69633eaaffd2"
      },
      "source": [
        "plt.figure(figsize=(12,6))\n",
        "sns.countplot(x ='Destination_Type', data = df,hue='Surge_Pricing_Type')"
      ],
      "execution_count": null,
      "outputs": [
        {
          "output_type": "execute_result",
          "data": {
            "text/plain": [
              "<matplotlib.axes._subplots.AxesSubplot at 0x7f14737757d0>"
            ]
          },
          "metadata": {
            "tags": []
          },
          "execution_count": 21
        },
        {
          "output_type": "display_data",
          "data": {
            "image/png": "[encoded data removed]",
            "text/plain": [
              "<Figure size 864x432 with 1 Axes>"
            ]
          },
          "metadata": {
            "tags": [],
            "needs_background": "light"
          }
        }
      ]
    },
    {
      "cell_type": "code",
      "metadata": {
        "colab": {
          "base_uri": "https://localhost:8080/",
          "height": 406
        },
        "id": "hn1YhvtNDSYJ",
        "outputId": "41bd9245-a62d-4deb-9083-cf3eec6bf7fa"
      },
      "source": [
        "plt.figure(figsize=(12,6))\n",
        "sns.countplot(x ='Cancellation_Last_1Month', data = df,hue='Surge_Pricing_Type')"
      ],
      "execution_count": null,
      "outputs": [
        {
          "output_type": "execute_result",
          "data": {
            "text/plain": [
              "<matplotlib.axes._subplots.AxesSubplot at 0x7f147371b450>"
            ]
          },
          "metadata": {
            "tags": []
          },
          "execution_count": 22
        },
        {
          "output_type": "display_data",
          "data": {
            "image/png": "[encoded data removed]",
            "text/plain": [
              "<Figure size 864x432 with 1 Axes>"
            ]
          },
          "metadata": {
            "tags": [],
            "needs_background": "light"
          }
        }
      ]
    },
    {
      "cell_type": "code",
      "metadata": {
        "colab": {
          "base_uri": "https://localhost:8080/",
          "height": 405
        },
        "id": "AIeK-4sIDRKW",
        "outputId": "dcf7111e-2b19-4eb1-c4ec-58ad7f22cc33"
      },
      "source": [
        "plt.figure(figsize=(12,6))\n",
        "sns.countplot(x ='Gender', data = df,hue='Surge_Pricing_Type')"
      ],
      "execution_count": null,
      "outputs": [
        {
          "output_type": "execute_result",
          "data": {
            "text/plain": [
              "<matplotlib.axes._subplots.AxesSubplot at 0x7f14736d22d0>"
            ]
          },
          "metadata": {
            "tags": []
          },
          "execution_count": 23
        },
        {
          "output_type": "display_data",
          "data": {
            "image/png": "[encoded data removed]",
            "text/plain": [
              "<Figure size 864x432 with 1 Axes>"
            ]
          },
          "metadata": {
            "tags": [],
            "needs_background": "light"
          }
        }
      ]
    },
    {
      "cell_type": "code",
      "metadata": {
        "colab": {
          "base_uri": "https://localhost:8080/",
          "height": 297
        },
        "id": "f87wf9xYeJcR",
        "outputId": "65185be5-a6d5-4b11-98ff-646bba9a5e05"
      },
      "source": [
        "sns.distplot(df['Trip_Distance'],kde = False,norm_hist=False)"
      ],
      "execution_count": null,
      "outputs": [
        {
          "output_type": "execute_result",
          "data": {
            "text/plain": [
              "<matplotlib.axes._subplots.AxesSubplot at 0x7f1473427850>"
            ]
          },
          "metadata": {
            "tags": []
          },
          "execution_count": 24
        },
        {
          "output_type": "display_data",
          "data": {
            "image/png": "[encoded data removed]",
            "text/plain": [
              "<Figure size 432x288 with 1 Axes>"
            ]
          },
          "metadata": {
            "tags": [],
            "needs_background": "light"
          }
        }
      ]
    },
    {
      "cell_type": "markdown",
      "metadata": {
        "id": "pOXpgcKMWY7p"
      },
      "source": [
        "###Trip_ID column seems to be of no use for modelling. So we can simply drop it."
      ]
    },
    {
      "cell_type": "code",
      "metadata": {
        "id": "OLPuq2TrWPc8"
      },
      "source": [
        "#dropping Trip_ID column\n",
        "del df['Trip_ID']"
      ],
      "execution_count": null,
      "outputs": []
    },
    {
      "cell_type": "markdown",
      "metadata": {
        "id": "WQ1XMrbtIbLk"
      },
      "source": [
        "#Cleaning the data\n",
        "##Handling the null values"
      ]
    },
    {
      "cell_type": "code",
      "metadata": {
        "colab": {
          "base_uri": "https://localhost:8080/",
          "height": 397
        },
        "id": "UGNQxMGtUR99",
        "outputId": "2c615996-6e1f-496b-9b3e-a86f4ac497f4"
      },
      "source": [
        "#checking the missing data in the dataset\n",
        "sns.heatmap(df.isnull(),yticklabels=False,cbar=False,cmap='viridis')\n",
        "plt.rcParams['figure.figsize'] = (15, 5)"
      ],
      "execution_count": null,
      "outputs": [
        {
          "output_type": "display_data",
          "data": {
            "image/png": "[encoded data removed]",
            "text/plain": [
              "<Figure size 432x288 with 1 Axes>"
            ]
          },
          "metadata": {
            "tags": [],
            "needs_background": "light"
          }
        }
      ]
    },
    {
      "cell_type": "code",
      "metadata": {
        "colab": {
          "base_uri": "https://localhost:8080/"
        },
        "id": "lHIUEsx1IEyA",
        "outputId": "2eaa43b6-bc84-4c12-aa8a-1039dde68b3e"
      },
      "source": [
        "#Understanding Proportion of Null Values\n",
        "df.isnull().mean()*100"
      ],
      "execution_count": null,
      "outputs": [
        {
          "output_type": "execute_result",
          "data": {
            "text/plain": [
              "Trip_Distance                   0.000000\n",
              "Type_of_Cab                    15.349911\n",
              "Customer_Since_Months           4.496362\n",
              "Life_Style_Index               15.336999\n",
              "Confidence_Life_Style_Index    15.336999\n",
              "Destination_Type                0.000000\n",
              "Customer_Rating                 0.000000\n",
              "Cancellation_Last_1Month        0.000000\n",
              "Var1                           53.948748\n",
              "Var2                            0.000000\n",
              "Var3                            0.000000\n",
              "Gender                          0.000000\n",
              "Surge_Pricing_Type              0.000000\n",
              "dtype: float64"
            ]
          },
          "metadata": {
            "tags": []
          },
          "execution_count": 27
        }
      ]
    },
    {
      "cell_type": "markdown",
      "metadata": {
        "id": "LQg4woT7IKW7"
      },
      "source": [
        "###Our dataset contains null values in following columns:\n",
        "* Type_of_Cab                    \n",
        "* Customer_Since_Months           \n",
        "* Life_Style_Index               \n",
        "* Confidence_Life_Style_Index    \n",
        "* Var1                           \n",
        "\n",
        "### We have more than 54 % null values in Var1 column.\n",
        "###Hence, we can simply drop var1 column"
      ]
    },
    {
      "cell_type": "code",
      "metadata": {
        "id": "PEFAqFWPIwFD"
      },
      "source": [
        "#deleting var1 column\n",
        "del df['Var1']"
      ],
      "execution_count": null,
      "outputs": []
    },
    {
      "cell_type": "markdown",
      "metadata": {
        "id": "udecaki6YwX0"
      },
      "source": [
        "###Handling the other 4 columns having null values"
      ]
    },
    {
      "cell_type": "code",
      "metadata": {
        "colab": {
          "base_uri": "https://localhost:8080/"
        },
        "id": "cETzOUPcrSLZ",
        "outputId": "d990cd97-f2ba-498a-a2bc-196617571294"
      },
      "source": [
        "df.isna().sum()"
      ],
      "execution_count": null,
      "outputs": [
        {
          "output_type": "execute_result",
          "data": {
            "text/plain": [
              "Trip_Distance                      0\n",
              "Type_of_Cab                    20210\n",
              "Customer_Since_Months           5920\n",
              "Life_Style_Index               20193\n",
              "Confidence_Life_Style_Index    20193\n",
              "Destination_Type                   0\n",
              "Customer_Rating                    0\n",
              "Cancellation_Last_1Month           0\n",
              "Var2                               0\n",
              "Var3                               0\n",
              "Gender                             0\n",
              "Surge_Pricing_Type                 0\n",
              "dtype: int64"
            ]
          },
          "metadata": {
            "tags": []
          },
          "execution_count": 29
        }
      ]
    },
    {
      "cell_type": "markdown",
      "metadata": {
        "id": "U8QHxojksou6"
      },
      "source": [
        "* **For now i am dropping all those columns having null values as it will not make much impact as our dataset is too large.**"
      ]
    },
    {
      "cell_type": "code",
      "metadata": {
        "id": "sAj6XXf1rkdb"
      },
      "source": [
        "#creating a copy of the original df\n",
        "new_df=df.copy()"
      ],
      "execution_count": null,
      "outputs": []
    },
    {
      "cell_type": "code",
      "metadata": {
        "colab": {
          "base_uri": "https://localhost:8080/"
        },
        "id": "EaCPMVJgrou-",
        "outputId": "9f305f56-28af-40e1-ba39-c76a971a6724"
      },
      "source": [
        "#dropping all those columns having nan values\n",
        "new_df.dropna(inplace=True)\n",
        "new_df.shape"
      ],
      "execution_count": null,
      "outputs": [
        {
          "output_type": "execute_result",
          "data": {
            "text/plain": [
              "(90052, 12)"
            ]
          },
          "metadata": {
            "tags": []
          },
          "execution_count": 31
        }
      ]
    },
    {
      "cell_type": "markdown",
      "metadata": {
        "id": "eTlDeZ0TtGIb"
      },
      "source": [
        "* **Now, after dropping all those columns we have about 90000 records in the dataset.**"
      ]
    },
    {
      "cell_type": "code",
      "metadata": {
        "colab": {
          "base_uri": "https://localhost:8080/"
        },
        "id": "-Xo3OBSUr2rX",
        "outputId": "33d0182c-e665-459a-f7c9-b811767a65e0"
      },
      "source": [
        "new_df.isna().sum()"
      ],
      "execution_count": null,
      "outputs": [
        {
          "output_type": "execute_result",
          "data": {
            "text/plain": [
              "Trip_Distance                  0\n",
              "Type_of_Cab                    0\n",
              "Customer_Since_Months          0\n",
              "Life_Style_Index               0\n",
              "Confidence_Life_Style_Index    0\n",
              "Destination_Type               0\n",
              "Customer_Rating                0\n",
              "Cancellation_Last_1Month       0\n",
              "Var2                           0\n",
              "Var3                           0\n",
              "Gender                         0\n",
              "Surge_Pricing_Type             0\n",
              "dtype: int64"
            ]
          },
          "metadata": {
            "tags": []
          },
          "execution_count": 32
        }
      ]
    },
    {
      "cell_type": "markdown",
      "metadata": {
        "id": "7RvnH9P2tVIh"
      },
      "source": [
        "* **And we have no null values in the new_df**"
      ]
    },
    {
      "cell_type": "code",
      "metadata": {
        "colab": {
          "base_uri": "https://localhost:8080/"
        },
        "id": "9NRiCCzNIsSz",
        "outputId": "c24d32e2-7ca9-4dc9-d8b8-fbdc582276ee"
      },
      "source": [
        "new_df['Surge_Pricing_Type'].value_counts()"
      ],
      "execution_count": null,
      "outputs": [
        {
          "output_type": "execute_result",
          "data": {
            "text/plain": [
              "2    38918\n",
              "3    32504\n",
              "1    18630\n",
              "Name: Surge_Pricing_Type, dtype: int64"
            ]
          },
          "metadata": {
            "tags": []
          },
          "execution_count": 33
        }
      ]
    },
    {
      "cell_type": "code",
      "metadata": {
        "id": "unQD4nOEX_Mw"
      },
      "source": [
        "# df['Type_of_Cab']=df['Type_of_Cab'].fillna(df['Type_of_Cab'].mode()[0])\n",
        "# df['Customer_Since_Months']=df['Customer_Since_Months'].fillna(round(df['Customer_Since_Months'].mean()))\n",
        "# df['Life_Style_Index']=df['Life_Style_Index'].fillna(df['Life_Style_Index'].mean())\n",
        "# df['Confidence_Life_Style_Index']=df['Confidence_Life_Style_Index'].fillna(df['Confidence_Life_Style_Index'].mode()[0])"
      ],
      "execution_count": null,
      "outputs": []
    },
    {
      "cell_type": "markdown",
      "metadata": {
        "id": "x7aFxNN3tg1A"
      },
      "source": [
        "##**Now, let's analyse the numerical features of the dataset.**"
      ]
    },
    {
      "cell_type": "code",
      "metadata": {
        "colab": {
          "base_uri": "https://localhost:8080/",
          "height": 297
        },
        "id": "EnInHgXpXPu3",
        "outputId": "7c290a6f-4051-4ea1-8bed-06c7d8902f1a"
      },
      "source": [
        "new_df.describe()"
      ],
      "execution_count": null,
      "outputs": [
        {
          "output_type": "execute_result",
          "data": {
            "text/html": [
              "<div>\n",
              "<style scoped>\n",
              "    .dataframe tbody tr th:only-of-type {\n",
              "        vertical-align: middle;\n",
              "    }\n",
              "\n",
              "    .dataframe tbody tr th {\n",
              "        vertical-align: top;\n",
              "    }\n",
              "\n",
              "    .dataframe thead th {\n",
              "        text-align: right;\n",
              "    }\n",
              "</style>\n",
              "<table border=\"1\" class=\"dataframe\">\n",
              "  <thead>\n",
              "    <tr style=\"text-align: right;\">\n",
              "      <th></th>\n",
              "      <th>Trip_Distance</th>\n",
              "      <th>Customer_Since_Months</th>\n",
              "      <th>Life_Style_Index</th>\n",
              "      <th>Customer_Rating</th>\n",
              "      <th>Cancellation_Last_1Month</th>\n",
              "      <th>Var2</th>\n",
              "      <th>Var3</th>\n",
              "      <th>Surge_Pricing_Type</th>\n",
              "    </tr>\n",
              "  </thead>\n",
              "  <tbody>\n",
              "    <tr>\n",
              "      <th>count</th>\n",
              "      <td>90052.000000</td>\n",
              "      <td>90052.000000</td>\n",
              "      <td>90052.000000</td>\n",
              "      <td>90052.000000</td>\n",
              "      <td>90052.000000</td>\n",
              "      <td>90052.000000</td>\n",
              "      <td>90052.000000</td>\n",
              "      <td>90052.000000</td>\n",
              "    </tr>\n",
              "    <tr>\n",
              "      <th>mean</th>\n",
              "      <td>44.570410</td>\n",
              "      <td>6.009872</td>\n",
              "      <td>2.809990</td>\n",
              "      <td>2.856178</td>\n",
              "      <td>0.786257</td>\n",
              "      <td>51.268834</td>\n",
              "      <td>75.197841</td>\n",
              "      <td>2.154067</td>\n",
              "    </tr>\n",
              "    <tr>\n",
              "      <th>std</th>\n",
              "      <td>25.550645</td>\n",
              "      <td>3.627505</td>\n",
              "      <td>0.221479</td>\n",
              "      <td>0.973910</td>\n",
              "      <td>1.041551</td>\n",
              "      <td>4.991620</td>\n",
              "      <td>11.594410</td>\n",
              "      <td>0.737629</td>\n",
              "    </tr>\n",
              "    <tr>\n",
              "      <th>min</th>\n",
              "      <td>0.310000</td>\n",
              "      <td>0.000000</td>\n",
              "      <td>1.596380</td>\n",
              "      <td>0.001250</td>\n",
              "      <td>0.000000</td>\n",
              "      <td>40.000000</td>\n",
              "      <td>52.000000</td>\n",
              "      <td>1.000000</td>\n",
              "    </tr>\n",
              "    <tr>\n",
              "      <th>25%</th>\n",
              "      <td>24.880000</td>\n",
              "      <td>3.000000</td>\n",
              "      <td>2.661130</td>\n",
              "      <td>2.166250</td>\n",
              "      <td>0.000000</td>\n",
              "      <td>48.000000</td>\n",
              "      <td>67.000000</td>\n",
              "      <td>2.000000</td>\n",
              "    </tr>\n",
              "    <tr>\n",
              "      <th>50%</th>\n",
              "      <td>38.450000</td>\n",
              "      <td>6.000000</td>\n",
              "      <td>2.807160</td>\n",
              "      <td>2.903750</td>\n",
              "      <td>0.000000</td>\n",
              "      <td>50.000000</td>\n",
              "      <td>74.000000</td>\n",
              "      <td>2.000000</td>\n",
              "    </tr>\n",
              "    <tr>\n",
              "      <th>75%</th>\n",
              "      <td>60.940000</td>\n",
              "      <td>10.000000</td>\n",
              "      <td>2.951590</td>\n",
              "      <td>3.581250</td>\n",
              "      <td>1.000000</td>\n",
              "      <td>54.000000</td>\n",
              "      <td>82.000000</td>\n",
              "      <td>3.000000</td>\n",
              "    </tr>\n",
              "    <tr>\n",
              "      <th>max</th>\n",
              "      <td>109.230000</td>\n",
              "      <td>10.000000</td>\n",
              "      <td>4.875110</td>\n",
              "      <td>5.000000</td>\n",
              "      <td>8.000000</td>\n",
              "      <td>124.000000</td>\n",
              "      <td>206.000000</td>\n",
              "      <td>3.000000</td>\n",
              "    </tr>\n",
              "  </tbody>\n",
              "</table>\n",
              "</div>"
            ],
            "text/plain": [
              "       Trip_Distance  Customer_Since_Months  ...          Var3  Surge_Pricing_Type\n",
              "count   90052.000000           90052.000000  ...  90052.000000        90052.000000\n",
              "mean       44.570410               6.009872  ...     75.197841            2.154067\n",
              "std        25.550645               3.627505  ...     11.594410            0.737629\n",
              "min         0.310000               0.000000  ...     52.000000            1.000000\n",
              "25%        24.880000               3.000000  ...     67.000000            2.000000\n",
              "50%        38.450000               6.000000  ...     74.000000            2.000000\n",
              "75%        60.940000              10.000000  ...     82.000000            3.000000\n",
              "max       109.230000              10.000000  ...    206.000000            3.000000\n",
              "\n",
              "[8 rows x 8 columns]"
            ]
          },
          "metadata": {
            "tags": []
          },
          "execution_count": 35
        }
      ]
    },
    {
      "cell_type": "code",
      "metadata": {
        "colab": {
          "base_uri": "https://localhost:8080/",
          "height": 352
        },
        "id": "-L3w2NNou7na",
        "outputId": "5f9744b5-843c-46b5-8817-1bbea269d724"
      },
      "source": [
        "plt.figure(figsize=(10,5))\n",
        "sns.distplot(new_df['Trip_Distance'])"
      ],
      "execution_count": null,
      "outputs": [
        {
          "output_type": "execute_result",
          "data": {
            "text/plain": [
              "<matplotlib.axes._subplots.AxesSubplot at 0x7f1474de2d90>"
            ]
          },
          "metadata": {
            "tags": []
          },
          "execution_count": 36
        },
        {
          "output_type": "display_data",
          "data": {
            "image/png": "[encoded data removed]",
            "text/plain": [
              "<Figure size 720x360 with 1 Axes>"
            ]
          },
          "metadata": {
            "tags": [],
            "needs_background": "light"
          }
        }
      ]
    },
    {
      "cell_type": "code",
      "metadata": {
        "colab": {
          "base_uri": "https://localhost:8080/",
          "height": 354
        },
        "id": "exkN64WXwbRw",
        "outputId": "da24a011-4f6e-4335-b596-d68f3a089335"
      },
      "source": [
        "plt.figure(figsize=(10,5))\n",
        "sns.distplot(new_df['Life_Style_Index'])"
      ],
      "execution_count": null,
      "outputs": [
        {
          "output_type": "execute_result",
          "data": {
            "text/plain": [
              "<matplotlib.axes._subplots.AxesSubplot at 0x7f1474d5b4d0>"
            ]
          },
          "metadata": {
            "tags": []
          },
          "execution_count": 37
        },
        {
          "output_type": "display_data",
          "data": {
            "image/png": "[encoded data removed]",
            "text/plain": [
              "<Figure size 720x360 with 1 Axes>"
            ]
          },
          "metadata": {
            "tags": [],
            "needs_background": "light"
          }
        }
      ]
    },
    {
      "cell_type": "code",
      "metadata": {
        "colab": {
          "base_uri": "https://localhost:8080/",
          "height": 353
        },
        "id": "7BqG9mTV5QtW",
        "outputId": "b6af57fd-bd6f-4520-adc8-1a92f69d4c94"
      },
      "source": [
        "plt.figure(figsize=(10,5))\n",
        "sns.distplot(new_df['Customer_Rating'])"
      ],
      "execution_count": null,
      "outputs": [
        {
          "output_type": "execute_result",
          "data": {
            "text/plain": [
              "<matplotlib.axes._subplots.AxesSubplot at 0x7f146aaae890>"
            ]
          },
          "metadata": {
            "tags": []
          },
          "execution_count": 38
        },
        {
          "output_type": "display_data",
          "data": {
            "image/png": "[encoded data removed]",
            "text/plain": [
              "<Figure size 720x360 with 1 Axes>"
            ]
          },
          "metadata": {
            "tags": [],
            "needs_background": "light"
          }
        }
      ]
    },
    {
      "cell_type": "code",
      "metadata": {
        "colab": {
          "base_uri": "https://localhost:8080/",
          "height": 351
        },
        "id": "vdQJZZ-q5QO7",
        "outputId": "448310a2-ac1a-40cc-e54b-74a882711403"
      },
      "source": [
        "plt.figure(figsize=(10,5))\n",
        "sns.distplot(new_df['Var2'])"
      ],
      "execution_count": null,
      "outputs": [
        {
          "output_type": "execute_result",
          "data": {
            "text/plain": [
              "<matplotlib.axes._subplots.AxesSubplot at 0x7f146a89dd90>"
            ]
          },
          "metadata": {
            "tags": []
          },
          "execution_count": 39
        },
        {
          "output_type": "display_data",
          "data": {
            "image/png": "[encoded data removed]",
            "text/plain": [
              "<Figure size 720x360 with 1 Axes>"
            ]
          },
          "metadata": {
            "tags": [],
            "needs_background": "light"
          }
        }
      ]
    },
    {
      "cell_type": "code",
      "metadata": {
        "colab": {
          "base_uri": "https://localhost:8080/",
          "height": 351
        },
        "id": "vaSMQ1lG5Psw",
        "outputId": "c4b2d2f7-c3f7-4a68-9e04-175a6c4566fd"
      },
      "source": [
        "plt.figure(figsize=(10,5))\n",
        "sns.distplot(new_df['Var3'])"
      ],
      "execution_count": null,
      "outputs": [
        {
          "output_type": "execute_result",
          "data": {
            "text/plain": [
              "<matplotlib.axes._subplots.AxesSubplot at 0x7f146a98a4d0>"
            ]
          },
          "metadata": {
            "tags": []
          },
          "execution_count": 40
        },
        {
          "output_type": "display_data",
          "data": {
            "image/png": "[encoded data removed]",
            "text/plain": [
              "<Figure size 720x360 with 1 Axes>"
            ]
          },
          "metadata": {
            "tags": [],
            "needs_background": "light"
          }
        }
      ]
    },
    {
      "cell_type": "code",
      "metadata": {
        "colab": {
          "base_uri": "https://localhost:8080/",
          "height": 486
        },
        "id": "rWBFPOByHmms",
        "outputId": "6fec4fb6-4b95-4823-9ca3-19a087198e0a"
      },
      "source": [
        "#Boxplot of numerical columns\n",
        "new_df.plot(kind='box', layout=(3,3),subplots=True,figsize=(20,8),color='r')\n",
        "plt.show()"
      ],
      "execution_count": null,
      "outputs": [
        {
          "output_type": "display_data",
          "data": {
            "image/png": "[encoded data removed]",
            "text/plain": [
              "<Figure size 1440x576 with 9 Axes>"
            ]
          },
          "metadata": {
            "tags": [],
            "needs_background": "light"
          }
        }
      ]
    },
    {
      "cell_type": "code",
      "metadata": {
        "id": "Q_ru-JnaZnNK"
      },
      "source": [
        "# num_list=list(df.select_dtypes(exclude='object'))\n",
        "# for i in num_list:\n",
        "#     q1=df[i].quantile(0.25)\n",
        "#     q3=df[i].quantile(0.75)\n",
        "#     iqr=q3-q1\n",
        "#     for j in range(0,len(df[i])):\n",
        "#         if df[i][j]>(q3+(1.5*iqr)) or df[i][j]<(q1-(1.5*iqr)):\n",
        "#             df[i][j]=df[i].mode()[0]\n"
      ],
      "execution_count": null,
      "outputs": []
    },
    {
      "cell_type": "code",
      "metadata": {
        "id": "9y7yko_VaSpY"
      },
      "source": [
        "# #Boxplot of numerical columns\n",
        "# df.plot(kind='box', layout=(3,3),subplots=True,figsize=(20,8),color='r')\n",
        "# plt.show()"
      ],
      "execution_count": null,
      "outputs": []
    },
    {
      "cell_type": "code",
      "metadata": {
        "id": "Dy__-dmA6ubm"
      },
      "source": [
        "#Converting the type of Customer_Since_Months from float to int\n",
        "new_df['Customer_Since_Months']=new_df['Customer_Since_Months'].astype(int)"
      ],
      "execution_count": null,
      "outputs": []
    },
    {
      "cell_type": "code",
      "metadata": {
        "colab": {
          "base_uri": "https://localhost:8080/"
        },
        "id": "oCY1zb4-6-eN",
        "outputId": "8aef78ae-62ee-4ccb-f999-de8ee036d1d6"
      },
      "source": [
        "new_df.shape"
      ],
      "execution_count": 143,
      "outputs": [
        {
          "output_type": "execute_result",
          "data": {
            "text/plain": [
              "(90052, 12)"
            ]
          },
          "metadata": {
            "tags": []
          },
          "execution_count": 143
        }
      ]
    },
    {
      "cell_type": "code",
      "metadata": {
        "colab": {
          "base_uri": "https://localhost:8080/",
          "height": 624
        },
        "id": "ZilggO6JnOL-",
        "outputId": "e8ba4f7d-5e24-46bb-ea3f-71312e231dd9"
      },
      "source": [
        "# Lets look at the correlation matrix now.\n",
        "fig = plt.figure(figsize=(16,8))\n",
        "ax = fig.add_subplot(111)\n",
        "sns.heatmap(new_df.corr(),annot=True, cmap='Spectral_r')"
      ],
      "execution_count": 159,
      "outputs": [
        {
          "output_type": "execute_result",
          "data": {
            "text/plain": [
              "<matplotlib.axes._subplots.AxesSubplot at 0x7f146a585490>"
            ]
          },
          "metadata": {
            "tags": []
          },
          "execution_count": 159
        },
        {
          "output_type": "display_data",
          "data": {
            "image/png": "[encoded data removed]",
            "text/plain": [
              "<Figure size 1152x576 with 2 Axes>"
            ]
          },
          "metadata": {
            "tags": [],
            "needs_background": "light"
          }
        }
      ]
    },
    {
      "cell_type": "markdown",
      "metadata": {
        "id": "_k355xsK9ba_"
      },
      "source": [
        "##**Categorical Columns**\n",
        "* Type_of_Cab\n",
        "* Confidence_Life_Style_Index  \n",
        "* Destination_Type             \n",
        "* Gender                       "
      ]
    },
    {
      "cell_type": "code",
      "metadata": {
        "id": "aKIHgQ5DxSuh"
      },
      "source": [
        ""
      ],
      "execution_count": null,
      "outputs": []
    },
    {
      "cell_type": "code",
      "metadata": {
        "id": "I8HnNwn_HFii"
      },
      "source": [
        "# categorical = ['Type_of_Cab','Confidence_Life_Style_Index','Destination_Type','Gender']"
      ],
      "execution_count": null,
      "outputs": []
    },
    {
      "cell_type": "markdown",
      "metadata": {
        "id": "D2WnhjumLONh"
      },
      "source": [
        "* **Let's do one hot encodiing in Type_of_Cab column**"
      ]
    },
    {
      "cell_type": "code",
      "metadata": {
        "id": "DjbLsgeQNR39"
      },
      "source": [
        "df1=new_df.copy()"
      ],
      "execution_count": 124,
      "outputs": []
    },
    {
      "cell_type": "code",
      "metadata": {
        "colab": {
          "base_uri": "https://localhost:8080/"
        },
        "id": "u-ajXyDWLMHm",
        "outputId": "f2433a47-3280-4fdf-d288-d4481522fd5c"
      },
      "source": [
        "dummies=pd.get_dummies(new_df.Type_of_Cab,prefix='Cab_',)\n",
        "df1=pd.concat([new_df, dummies], axis=1)\n",
        "df1.shape"
      ],
      "execution_count": 125,
      "outputs": [
        {
          "output_type": "execute_result",
          "data": {
            "text/plain": [
              "(90052, 17)"
            ]
          },
          "metadata": {
            "tags": []
          },
          "execution_count": 125
        }
      ]
    },
    {
      "cell_type": "code",
      "metadata": {
        "colab": {
          "base_uri": "https://localhost:8080/",
          "height": 100
        },
        "id": "gLm4SnNmNc7p",
        "outputId": "eeb91156-b0fa-411f-ea76-935d619778c4"
      },
      "source": [
        "df1.drop(columns='Type_of_Cab',axis=1,inplace=True)\n",
        "df1.head(1)"
      ],
      "execution_count": 126,
      "outputs": [
        {
          "output_type": "execute_result",
          "data": {
            "text/html": [
              "<div>\n",
              "<style scoped>\n",
              "    .dataframe tbody tr th:only-of-type {\n",
              "        vertical-align: middle;\n",
              "    }\n",
              "\n",
              "    .dataframe tbody tr th {\n",
              "        vertical-align: top;\n",
              "    }\n",
              "\n",
              "    .dataframe thead th {\n",
              "        text-align: right;\n",
              "    }\n",
              "</style>\n",
              "<table border=\"1\" class=\"dataframe\">\n",
              "  <thead>\n",
              "    <tr style=\"text-align: right;\">\n",
              "      <th></th>\n",
              "      <th>Trip_Distance</th>\n",
              "      <th>Customer_Since_Months</th>\n",
              "      <th>Life_Style_Index</th>\n",
              "      <th>Confidence_Life_Style_Index</th>\n",
              "      <th>Destination_Type</th>\n",
              "      <th>Customer_Rating</th>\n",
              "      <th>Cancellation_Last_1Month</th>\n",
              "      <th>Var2</th>\n",
              "      <th>Var3</th>\n",
              "      <th>Gender</th>\n",
              "      <th>Surge_Pricing_Type</th>\n",
              "      <th>Cab__A</th>\n",
              "      <th>Cab__B</th>\n",
              "      <th>Cab__C</th>\n",
              "      <th>Cab__D</th>\n",
              "      <th>Cab__E</th>\n",
              "    </tr>\n",
              "  </thead>\n",
              "  <tbody>\n",
              "    <tr>\n",
              "      <th>0</th>\n",
              "      <td>6.77</td>\n",
              "      <td>1</td>\n",
              "      <td>2.42769</td>\n",
              "      <td>A</td>\n",
              "      <td>A</td>\n",
              "      <td>3.905</td>\n",
              "      <td>0</td>\n",
              "      <td>46</td>\n",
              "      <td>60</td>\n",
              "      <td>Female</td>\n",
              "      <td>2</td>\n",
              "      <td>0</td>\n",
              "      <td>1</td>\n",
              "      <td>0</td>\n",
              "      <td>0</td>\n",
              "      <td>0</td>\n",
              "    </tr>\n",
              "  </tbody>\n",
              "</table>\n",
              "</div>"
            ],
            "text/plain": [
              "   Trip_Distance  Customer_Since_Months  ...  Cab__D Cab__E\n",
              "0           6.77                      1  ...       0      0\n",
              "\n",
              "[1 rows x 16 columns]"
            ]
          },
          "metadata": {
            "tags": []
          },
          "execution_count": 126
        }
      ]
    },
    {
      "cell_type": "markdown",
      "metadata": {
        "id": "RVe-yx0zEP8b"
      },
      "source": [
        "* **Let's do label encodiing in Gender Column**"
      ]
    },
    {
      "cell_type": "code",
      "metadata": {
        "id": "oae_GtL8HFWW"
      },
      "source": [
        "gender_dict={'Male':1,'Female':0}\n",
        "df1['Gender']=df1['Gender'].map(gender_dict)"
      ],
      "execution_count": 127,
      "outputs": []
    },
    {
      "cell_type": "markdown",
      "metadata": {
        "id": "8EJgMMn9ElyD"
      },
      "source": [
        "* **Let's do label encoding in Confidence_Life_Style_Index column**"
      ]
    },
    {
      "cell_type": "code",
      "metadata": {
        "id": "hMJNpWnRJNJP"
      },
      "source": [
        "conf_dict={'A':0,'B':1,'C':2}\n",
        "df1['Confidence_Life_Style_Index']=df1['Confidence_Life_Style_Index'].map(conf_dict)"
      ],
      "execution_count": 128,
      "outputs": []
    },
    {
      "cell_type": "markdown",
      "metadata": {
        "id": "2AIEQjsuVtAN"
      },
      "source": [
        "* **Let's do one hot encoding in Destination_Type column**"
      ]
    },
    {
      "cell_type": "code",
      "metadata": {
        "colab": {
          "base_uri": "https://localhost:8080/"
        },
        "id": "OV3Xo7EDOIr-",
        "outputId": "da35ce41-321f-4278-c968-3a793abc1ff7"
      },
      "source": [
        "dummies1=pd.get_dummies(df1.Destination_Type,prefix='Destination_',)\n",
        "df1=pd.concat([df1, dummies1], axis=1)\n",
        "df1.shape"
      ],
      "execution_count": 129,
      "outputs": [
        {
          "output_type": "execute_result",
          "data": {
            "text/plain": [
              "(90052, 30)"
            ]
          },
          "metadata": {
            "tags": []
          },
          "execution_count": 129
        }
      ]
    },
    {
      "cell_type": "code",
      "metadata": {
        "colab": {
          "base_uri": "https://localhost:8080/"
        },
        "id": "mVSrngbttDa5",
        "outputId": "38f26bde-6a4c-4778-800e-46588fbcb094"
      },
      "source": [
        "df1.drop(columns='Destination_Type',axis=1,inplace=True)\n",
        "df1.shape"
      ],
      "execution_count": 130,
      "outputs": [
        {
          "output_type": "execute_result",
          "data": {
            "text/plain": [
              "(90052, 29)"
            ]
          },
          "metadata": {
            "tags": []
          },
          "execution_count": 130
        }
      ]
    },
    {
      "cell_type": "code",
      "metadata": {
        "colab": {
          "base_uri": "https://localhost:8080/",
          "height": 224
        },
        "id": "pgSz-WXOOIaw",
        "outputId": "404426ba-9198-41f8-94f6-9da9f635ee6b"
      },
      "source": [
        "df1.head()"
      ],
      "execution_count": 131,
      "outputs": [
        {
          "output_type": "execute_result",
          "data": {
            "text/html": [
              "<div>\n",
              "<style scoped>\n",
              "    .dataframe tbody tr th:only-of-type {\n",
              "        vertical-align: middle;\n",
              "    }\n",
              "\n",
              "    .dataframe tbody tr th {\n",
              "        vertical-align: top;\n",
              "    }\n",
              "\n",
              "    .dataframe thead th {\n",
              "        text-align: right;\n",
              "    }\n",
              "</style>\n",
              "<table border=\"1\" class=\"dataframe\">\n",
              "  <thead>\n",
              "    <tr style=\"text-align: right;\">\n",
              "      <th></th>\n",
              "      <th>Trip_Distance</th>\n",
              "      <th>Customer_Since_Months</th>\n",
              "      <th>Life_Style_Index</th>\n",
              "      <th>Confidence_Life_Style_Index</th>\n",
              "      <th>Customer_Rating</th>\n",
              "      <th>Cancellation_Last_1Month</th>\n",
              "      <th>Var2</th>\n",
              "      <th>Var3</th>\n",
              "      <th>Gender</th>\n",
              "      <th>Surge_Pricing_Type</th>\n",
              "      <th>Cab__A</th>\n",
              "      <th>Cab__B</th>\n",
              "      <th>Cab__C</th>\n",
              "      <th>Cab__D</th>\n",
              "      <th>Cab__E</th>\n",
              "      <th>Destination__A</th>\n",
              "      <th>Destination__B</th>\n",
              "      <th>Destination__C</th>\n",
              "      <th>Destination__D</th>\n",
              "      <th>Destination__E</th>\n",
              "      <th>Destination__F</th>\n",
              "      <th>Destination__G</th>\n",
              "      <th>Destination__H</th>\n",
              "      <th>Destination__I</th>\n",
              "      <th>Destination__J</th>\n",
              "      <th>Destination__K</th>\n",
              "      <th>Destination__L</th>\n",
              "      <th>Destination__M</th>\n",
              "      <th>Destination__N</th>\n",
              "    </tr>\n",
              "  </thead>\n",
              "  <tbody>\n",
              "    <tr>\n",
              "      <th>0</th>\n",
              "      <td>6.77</td>\n",
              "      <td>1</td>\n",
              "      <td>2.42769</td>\n",
              "      <td>0</td>\n",
              "      <td>3.9050</td>\n",
              "      <td>0</td>\n",
              "      <td>46</td>\n",
              "      <td>60</td>\n",
              "      <td>0</td>\n",
              "      <td>2</td>\n",
              "      <td>0</td>\n",
              "      <td>1</td>\n",
              "      <td>0</td>\n",
              "      <td>0</td>\n",
              "      <td>0</td>\n",
              "      <td>1</td>\n",
              "      <td>0</td>\n",
              "      <td>0</td>\n",
              "      <td>0</td>\n",
              "      <td>0</td>\n",
              "      <td>0</td>\n",
              "      <td>0</td>\n",
              "      <td>0</td>\n",
              "      <td>0</td>\n",
              "      <td>0</td>\n",
              "      <td>0</td>\n",
              "      <td>0</td>\n",
              "      <td>0</td>\n",
              "      <td>0</td>\n",
              "    </tr>\n",
              "    <tr>\n",
              "      <th>1</th>\n",
              "      <td>29.47</td>\n",
              "      <td>10</td>\n",
              "      <td>2.78245</td>\n",
              "      <td>1</td>\n",
              "      <td>3.4500</td>\n",
              "      <td>0</td>\n",
              "      <td>56</td>\n",
              "      <td>78</td>\n",
              "      <td>1</td>\n",
              "      <td>2</td>\n",
              "      <td>0</td>\n",
              "      <td>1</td>\n",
              "      <td>0</td>\n",
              "      <td>0</td>\n",
              "      <td>0</td>\n",
              "      <td>1</td>\n",
              "      <td>0</td>\n",
              "      <td>0</td>\n",
              "      <td>0</td>\n",
              "      <td>0</td>\n",
              "      <td>0</td>\n",
              "      <td>0</td>\n",
              "      <td>0</td>\n",
              "      <td>0</td>\n",
              "      <td>0</td>\n",
              "      <td>0</td>\n",
              "      <td>0</td>\n",
              "      <td>0</td>\n",
              "      <td>0</td>\n",
              "    </tr>\n",
              "    <tr>\n",
              "      <th>4</th>\n",
              "      <td>54.95</td>\n",
              "      <td>10</td>\n",
              "      <td>3.03453</td>\n",
              "      <td>1</td>\n",
              "      <td>3.4025</td>\n",
              "      <td>4</td>\n",
              "      <td>49</td>\n",
              "      <td>102</td>\n",
              "      <td>1</td>\n",
              "      <td>2</td>\n",
              "      <td>0</td>\n",
              "      <td>0</td>\n",
              "      <td>1</td>\n",
              "      <td>0</td>\n",
              "      <td>0</td>\n",
              "      <td>1</td>\n",
              "      <td>0</td>\n",
              "      <td>0</td>\n",
              "      <td>0</td>\n",
              "      <td>0</td>\n",
              "      <td>0</td>\n",
              "      <td>0</td>\n",
              "      <td>0</td>\n",
              "      <td>0</td>\n",
              "      <td>0</td>\n",
              "      <td>0</td>\n",
              "      <td>0</td>\n",
              "      <td>0</td>\n",
              "      <td>0</td>\n",
              "    </tr>\n",
              "    <tr>\n",
              "      <th>6</th>\n",
              "      <td>29.72</td>\n",
              "      <td>10</td>\n",
              "      <td>2.83958</td>\n",
              "      <td>2</td>\n",
              "      <td>2.9750</td>\n",
              "      <td>1</td>\n",
              "      <td>50</td>\n",
              "      <td>75</td>\n",
              "      <td>1</td>\n",
              "      <td>2</td>\n",
              "      <td>0</td>\n",
              "      <td>0</td>\n",
              "      <td>0</td>\n",
              "      <td>0</td>\n",
              "      <td>1</td>\n",
              "      <td>0</td>\n",
              "      <td>1</td>\n",
              "      <td>0</td>\n",
              "      <td>0</td>\n",
              "      <td>0</td>\n",
              "      <td>0</td>\n",
              "      <td>0</td>\n",
              "      <td>0</td>\n",
              "      <td>0</td>\n",
              "      <td>0</td>\n",
              "      <td>0</td>\n",
              "      <td>0</td>\n",
              "      <td>0</td>\n",
              "      <td>0</td>\n",
              "    </tr>\n",
              "    <tr>\n",
              "      <th>7</th>\n",
              "      <td>18.44</td>\n",
              "      <td>2</td>\n",
              "      <td>2.81871</td>\n",
              "      <td>1</td>\n",
              "      <td>3.5825</td>\n",
              "      <td>0</td>\n",
              "      <td>46</td>\n",
              "      <td>63</td>\n",
              "      <td>1</td>\n",
              "      <td>2</td>\n",
              "      <td>0</td>\n",
              "      <td>1</td>\n",
              "      <td>0</td>\n",
              "      <td>0</td>\n",
              "      <td>0</td>\n",
              "      <td>1</td>\n",
              "      <td>0</td>\n",
              "      <td>0</td>\n",
              "      <td>0</td>\n",
              "      <td>0</td>\n",
              "      <td>0</td>\n",
              "      <td>0</td>\n",
              "      <td>0</td>\n",
              "      <td>0</td>\n",
              "      <td>0</td>\n",
              "      <td>0</td>\n",
              "      <td>0</td>\n",
              "      <td>0</td>\n",
              "      <td>0</td>\n",
              "    </tr>\n",
              "  </tbody>\n",
              "</table>\n",
              "</div>"
            ],
            "text/plain": [
              "   Trip_Distance  Customer_Since_Months  ...  Destination__M  Destination__N\n",
              "0           6.77                      1  ...               0               0\n",
              "1          29.47                     10  ...               0               0\n",
              "4          54.95                     10  ...               0               0\n",
              "6          29.72                     10  ...               0               0\n",
              "7          18.44                      2  ...               0               0\n",
              "\n",
              "[5 rows x 29 columns]"
            ]
          },
          "metadata": {
            "tags": []
          },
          "execution_count": 131
        }
      ]
    },
    {
      "cell_type": "code",
      "metadata": {
        "colab": {
          "base_uri": "https://localhost:8080/"
        },
        "id": "S4-O_RRaV-dq",
        "outputId": "688e4eda-2108-4207-d441-e699868ab08c"
      },
      "source": [
        "df1.shape"
      ],
      "execution_count": 132,
      "outputs": [
        {
          "output_type": "execute_result",
          "data": {
            "text/plain": [
              "(90052, 29)"
            ]
          },
          "metadata": {
            "tags": []
          },
          "execution_count": 132
        }
      ]
    },
    {
      "cell_type": "markdown",
      "metadata": {
        "id": "A_b_vRmRWMbo"
      },
      "source": [
        "* **Now, our dataset have 16 features and we are done with categorical features too**"
      ]
    },
    {
      "cell_type": "markdown",
      "metadata": {
        "id": "Ps-qPBzXq0Ov"
      },
      "source": [
        "##**Feature Selection**"
      ]
    },
    {
      "cell_type": "markdown",
      "metadata": {
        "id": "NSEqU0hfquB_"
      },
      "source": [
        "* **Let's comppare the features**"
      ]
    },
    {
      "cell_type": "code",
      "metadata": {
        "id": "HCk67JVKvF7o"
      },
      "source": [
        "X, y = df1.drop('Surge_Pricing_Type',axis=1), df1['Surge_Pricing_Type']"
      ],
      "execution_count": 146,
      "outputs": []
    },
    {
      "cell_type": "code",
      "metadata": {
        "colab": {
          "base_uri": "https://localhost:8080/",
          "height": 1000
        },
        "id": "dO0HVo0IasAv",
        "outputId": "cb2371c4-fed7-48eb-fb1d-e6322f785c57"
      },
      "source": [
        "from sklearn.ensemble import ExtraTreesClassifier\n",
        "# Building the model\n",
        "extra_tree_forest = ExtraTreesClassifier(n_estimators = 5,criterion ='entropy', max_features = 2)\n",
        "# Training the model\n",
        "extra_tree_forest.fit(X, y)\n",
        "  \n",
        "# Computing the importance of each feature\n",
        "feature_importance = extra_tree_forest.feature_importances_\n",
        "\n",
        "print(feature_importance)\n",
        "\n",
        "ext=pd.DataFrame(extra_tree_forest.feature_importances_,columns=[\"extratrees\"])\n",
        "ext\n",
        "ext.sort_values(['extratrees'], ascending=False)"
      ],
      "execution_count": 157,
      "outputs": [
        {
          "output_type": "stream",
          "text": [
            "[0.11143289 0.06295809 0.10593404 0.0364762  0.1080174  0.04814341\n",
            " 0.08818078 0.09996812 0.01342628 0.10539569 0.05365915 0.02838185\n",
            " 0.08128328 0.03149697 0.00431498 0.00647047 0.00221071 0.00362751\n",
            " 0.00146962 0.00124334 0.00116582 0.00113829 0.00107501 0.00049471\n",
            " 0.00069278 0.00087678 0.00024526 0.00022057]\n"
          ],
          "name": "stdout"
        },
        {
          "output_type": "execute_result",
          "data": {
            "text/html": [
              "<div>\n",
              "<style scoped>\n",
              "    .dataframe tbody tr th:only-of-type {\n",
              "        vertical-align: middle;\n",
              "    }\n",
              "\n",
              "    .dataframe tbody tr th {\n",
              "        vertical-align: top;\n",
              "    }\n",
              "\n",
              "    .dataframe thead th {\n",
              "        text-align: right;\n",
              "    }\n",
              "</style>\n",
              "<table border=\"1\" class=\"dataframe\">\n",
              "  <thead>\n",
              "    <tr style=\"text-align: right;\">\n",
              "      <th></th>\n",
              "      <th>extratrees</th>\n",
              "    </tr>\n",
              "  </thead>\n",
              "  <tbody>\n",
              "    <tr>\n",
              "      <th>0</th>\n",
              "      <td>0.111433</td>\n",
              "    </tr>\n",
              "    <tr>\n",
              "      <th>4</th>\n",
              "      <td>0.108017</td>\n",
              "    </tr>\n",
              "    <tr>\n",
              "      <th>2</th>\n",
              "      <td>0.105934</td>\n",
              "    </tr>\n",
              "    <tr>\n",
              "      <th>9</th>\n",
              "      <td>0.105396</td>\n",
              "    </tr>\n",
              "    <tr>\n",
              "      <th>7</th>\n",
              "      <td>0.099968</td>\n",
              "    </tr>\n",
              "    <tr>\n",
              "      <th>6</th>\n",
              "      <td>0.088181</td>\n",
              "    </tr>\n",
              "    <tr>\n",
              "      <th>12</th>\n",
              "      <td>0.081283</td>\n",
              "    </tr>\n",
              "    <tr>\n",
              "      <th>1</th>\n",
              "      <td>0.062958</td>\n",
              "    </tr>\n",
              "    <tr>\n",
              "      <th>10</th>\n",
              "      <td>0.053659</td>\n",
              "    </tr>\n",
              "    <tr>\n",
              "      <th>5</th>\n",
              "      <td>0.048143</td>\n",
              "    </tr>\n",
              "    <tr>\n",
              "      <th>3</th>\n",
              "      <td>0.036476</td>\n",
              "    </tr>\n",
              "    <tr>\n",
              "      <th>13</th>\n",
              "      <td>0.031497</td>\n",
              "    </tr>\n",
              "    <tr>\n",
              "      <th>11</th>\n",
              "      <td>0.028382</td>\n",
              "    </tr>\n",
              "    <tr>\n",
              "      <th>8</th>\n",
              "      <td>0.013426</td>\n",
              "    </tr>\n",
              "    <tr>\n",
              "      <th>15</th>\n",
              "      <td>0.006470</td>\n",
              "    </tr>\n",
              "    <tr>\n",
              "      <th>14</th>\n",
              "      <td>0.004315</td>\n",
              "    </tr>\n",
              "    <tr>\n",
              "      <th>17</th>\n",
              "      <td>0.003628</td>\n",
              "    </tr>\n",
              "    <tr>\n",
              "      <th>16</th>\n",
              "      <td>0.002211</td>\n",
              "    </tr>\n",
              "    <tr>\n",
              "      <th>18</th>\n",
              "      <td>0.001470</td>\n",
              "    </tr>\n",
              "    <tr>\n",
              "      <th>19</th>\n",
              "      <td>0.001243</td>\n",
              "    </tr>\n",
              "    <tr>\n",
              "      <th>20</th>\n",
              "      <td>0.001166</td>\n",
              "    </tr>\n",
              "    <tr>\n",
              "      <th>21</th>\n",
              "      <td>0.001138</td>\n",
              "    </tr>\n",
              "    <tr>\n",
              "      <th>22</th>\n",
              "      <td>0.001075</td>\n",
              "    </tr>\n",
              "    <tr>\n",
              "      <th>25</th>\n",
              "      <td>0.000877</td>\n",
              "    </tr>\n",
              "    <tr>\n",
              "      <th>24</th>\n",
              "      <td>0.000693</td>\n",
              "    </tr>\n",
              "    <tr>\n",
              "      <th>23</th>\n",
              "      <td>0.000495</td>\n",
              "    </tr>\n",
              "    <tr>\n",
              "      <th>26</th>\n",
              "      <td>0.000245</td>\n",
              "    </tr>\n",
              "    <tr>\n",
              "      <th>27</th>\n",
              "      <td>0.000221</td>\n",
              "    </tr>\n",
              "  </tbody>\n",
              "</table>\n",
              "</div>"
            ],
            "text/plain": [
              "    extratrees\n",
              "0     0.111433\n",
              "4     0.108017\n",
              "2     0.105934\n",
              "9     0.105396\n",
              "7     0.099968\n",
              "6     0.088181\n",
              "12    0.081283\n",
              "1     0.062958\n",
              "10    0.053659\n",
              "5     0.048143\n",
              "3     0.036476\n",
              "13    0.031497\n",
              "11    0.028382\n",
              "8     0.013426\n",
              "15    0.006470\n",
              "14    0.004315\n",
              "17    0.003628\n",
              "16    0.002211\n",
              "18    0.001470\n",
              "19    0.001243\n",
              "20    0.001166\n",
              "21    0.001138\n",
              "22    0.001075\n",
              "25    0.000877\n",
              "24    0.000693\n",
              "23    0.000495\n",
              "26    0.000245\n",
              "27    0.000221"
            ]
          },
          "metadata": {
            "tags": []
          },
          "execution_count": 157
        }
      ]
    },
    {
      "cell_type": "markdown",
      "metadata": {
        "id": "Ofk5XaBJyc-U"
      },
      "source": [
        "* **Now we can apply feature selection here and can drop less important features**"
      ]
    },
    {
      "cell_type": "markdown",
      "metadata": {
        "id": "qekKWz06urtX"
      },
      "source": [
        "##**Data Preparation**"
      ]
    },
    {
      "cell_type": "markdown",
      "metadata": {
        "id": "NAxjSbxNmIuN"
      },
      "source": [
        "* **Lets split the data into train and test data**"
      ]
    },
    {
      "cell_type": "code",
      "metadata": {
        "id": "-8EXQmUImFTb"
      },
      "source": [
        "X_train, X_test, y_train, y_test = train_test_split(X,y,test_size=0.25,random_state=1)"
      ],
      "execution_count": null,
      "outputs": []
    },
    {
      "cell_type": "markdown",
      "metadata": {
        "id": "9V0OSXS9SL49"
      },
      "source": [
        "* **Scaling the datasett**"
      ]
    },
    {
      "cell_type": "code",
      "metadata": {
        "id": "cnGQbqAB2VMJ"
      },
      "source": [
        "from sklearn.preprocessing import StandardScaler\n",
        "# Feature Scaling\n",
        "scaler = StandardScaler()\n",
        "X_train = scaler.fit_transform(X_train)\n",
        "X_test = scaler.transform(X_test)"
      ],
      "execution_count": null,
      "outputs": []
    },
    {
      "cell_type": "markdown",
      "metadata": {
        "id": "uTVPlRGcrBmr"
      },
      "source": [
        "#**Implementation of models on our dataset:**\n",
        "\n",
        "We can implement\n",
        "* Logistic Regression\n",
        "* SVM classifier\n",
        "* Logistic Regression\n",
        "* Random Forrest\n",
        "* XGBoost"
      ]
    },
    {
      "cell_type": "markdown",
      "metadata": {
        "id": "Efv1owwqRv7d"
      },
      "source": [
        "##**Logistic Regression**"
      ]
    },
    {
      "cell_type": "code",
      "metadata": {
        "colab": {
          "base_uri": "https://localhost:8080/"
        },
        "id": "XsHZDTmI7lL3",
        "outputId": "3ba5aab0-2ce1-4ceb-8803-2626b3f047bb"
      },
      "source": [
        "from sklearn.linear_model import LogisticRegression as LR\n",
        "lr_model=LR(solver='sag',multi_class='ovr')\n",
        "lr_model.fit(X_train,y_train)"
      ],
      "execution_count": null,
      "outputs": [
        {
          "output_type": "execute_result",
          "data": {
            "text/plain": [
              "LogisticRegression(C=1.0, class_weight=None, dual=False, fit_intercept=True,\n",
              "                   intercept_scaling=1, l1_ratio=None, max_iter=100,\n",
              "                   multi_class='ovr', n_jobs=None, penalty='l2',\n",
              "                   random_state=None, solver='sag', tol=0.0001, verbose=0,\n",
              "                   warm_start=False)"
            ]
          },
          "metadata": {
            "tags": []
          },
          "execution_count": 76
        }
      ]
    },
    {
      "cell_type": "code",
      "metadata": {
        "colab": {
          "base_uri": "https://localhost:8080/"
        },
        "id": "yyR9rlCV7qE4",
        "outputId": "d75bcffe-dcb1-4d9c-9e21-a5fc93c61b44"
      },
      "source": [
        "y_pred_lr=lr_model.predict(X_test)\n",
        "accuracy_lr = accuracy_score(y_test, y_pred_lr)\n",
        "print(\"Accuracy: %.2f%%\" % (accuracy_lr * 100.0))\n",
        "from sklearn.metrics import accuracy_score,recall_score,precision_score,confusion_matrix"
      ],
      "execution_count": null,
      "outputs": [
        {
          "output_type": "stream",
          "text": [
            "Accuracy: 71.65%\n"
          ],
          "name": "stdout"
        }
      ]
    },
    {
      "cell_type": "markdown",
      "metadata": {
        "id": "XdZptsp3Kt_a"
      },
      "source": [
        "#Let's apply SVM Multiclass Classification"
      ]
    },
    {
      "cell_type": "code",
      "metadata": {
        "id": "eFpA2AOBJNDc"
      },
      "source": [
        "from sklearn import svm\n",
        "from sklearn.linear_model import LogisticRegression\n",
        "from sklearn.ensemble import RandomForestClassifier \n",
        "from xgboost import XGBClassifier"
      ],
      "execution_count": null,
      "outputs": []
    },
    {
      "cell_type": "code",
      "metadata": {
        "id": "hZb7x275JNBx"
      },
      "source": [
        "from sklearn.metrics import accuracy_score,confusion_matrix\n",
        "from sklearn.metrics import precision_score\n",
        "from sklearn.metrics import recall_score\n",
        "from sklearn.metrics import f1_score\n",
        "from sklearn.metrics import roc_auc_score\n",
        "from sklearn.metrics import roc_curve\n",
        "from sklearn.metrics import auc"
      ],
      "execution_count": null,
      "outputs": []
    },
    {
      "cell_type": "code",
      "metadata": {
        "id": "ZG0L4bn9wjnK"
      },
      "source": [
        "svm_model_linear = svm.SVC(kernel = 'linear', C = 1,decision_function_shape='ovo').fit(X_train, y_train)\n",
        "# rbf = svm.SVC(kernel='rbf', gamma=0.5, C=0.1).fit(X_train, y_train)\n",
        "# poly = svm.SVC(kernel='poly', degree=3, C=1).fit(X_train, y_train)"
      ],
      "execution_count": 81,
      "outputs": []
    },
    {
      "cell_type": "code",
      "metadata": {
        "id": "oPPbo1jsFHYl"
      },
      "source": [
        "linear_pred = svm_model_linear.predict(X_test)\n",
        "# rbf_pred = rbf.predict(X_test)"
      ],
      "execution_count": 82,
      "outputs": []
    },
    {
      "cell_type": "code",
      "metadata": {
        "id": "CdkYChWfqzC-",
        "colab": {
          "base_uri": "https://localhost:8080/"
        },
        "outputId": "7e17a1b5-21e4-4c33-f201-dc29c3c407a7"
      },
      "source": [
        "linear_accuracy = accuracy_score(y_test, linear_pred)\n",
        "linear_f1 = f1_score(y_test, linear_pred, average='weighted')\n",
        "print('Accuracy (Linear Kernel): ', \"%.2f\" % (linear_accuracy*100))\n",
        "print('F1 (Linear Kernel): ', \"%.2f\" % (linear_f1*100))"
      ],
      "execution_count": 85,
      "outputs": [
        {
          "output_type": "stream",
          "text": [
            "Accuracy (Linear Kernel):  71.40\n",
            "F1 (Linear Kernel):  70.91\n"
          ],
          "name": "stdout"
        }
      ]
    },
    {
      "cell_type": "markdown",
      "metadata": {
        "id": "Fz1BoYSPXkwL"
      },
      "source": [
        "#Random Forest Classifier"
      ]
    },
    {
      "cell_type": "code",
      "metadata": {
        "id": "oBOuzcFSr17z"
      },
      "source": [
        "# rf = RandomForestClassifier()\n",
        "\n",
        "# param_dict_rf = {\n",
        "#     'max_depth': [4, 6, 8],\n",
        "#     'min_samples_leaf': [40, 50],\n",
        "#     'min_samples_split': [50, 100, 150],\n",
        "#     'n_estimators': [50, 80, 100]\n",
        "#   }\n",
        "\n",
        "# rf_grid = GridSearchCV(estimator=rf,\n",
        "#                        param_grid = param_dict_rf,\n",
        "#                        cv = 5, verbose=2, scoring='roc_auc')\n",
        "\n",
        "# rf_grid.fit(X_train,y_train)"
      ],
      "execution_count": null,
      "outputs": []
    },
    {
      "cell_type": "code",
      "metadata": {
        "colab": {
          "base_uri": "https://localhost:8080/"
        },
        "id": "aLet08Un3Vcc",
        "outputId": "a8d04da9-8395-4e84-cb8c-6868fabdbb0d"
      },
      "source": [
        "classifier = RandomForestClassifier(n_estimators = 10, criterion = 'entropy', random_state = 42)\n",
        "classifier.fit(X_train, y_train)"
      ],
      "execution_count": null,
      "outputs": [
        {
          "output_type": "execute_result",
          "data": {
            "text/plain": [
              "RandomForestClassifier(bootstrap=True, ccp_alpha=0.0, class_weight=None,\n",
              "                       criterion='entropy', max_depth=None, max_features='auto',\n",
              "                       max_leaf_nodes=None, max_samples=None,\n",
              "                       min_impurity_decrease=0.0, min_impurity_split=None,\n",
              "                       min_samples_leaf=1, min_samples_split=2,\n",
              "                       min_weight_fraction_leaf=0.0, n_estimators=10,\n",
              "                       n_jobs=None, oob_score=False, random_state=42, verbose=0,\n",
              "                       warm_start=False)"
            ]
          },
          "metadata": {
            "tags": []
          },
          "execution_count": 67
        }
      ]
    },
    {
      "cell_type": "code",
      "metadata": {
        "colab": {
          "base_uri": "https://localhost:8080/"
        },
        "id": "uuyJ2oXvZAb2",
        "outputId": "2af31754-fcb8-42da-cd6a-45df54f821b0"
      },
      "source": [
        "#accuracy of train data\n",
        "y_pred_train = classifier.predict(X_train)\n",
        "accuracy = accuracy_score(y_train, y_pred_train)\n",
        "accuracy"
      ],
      "execution_count": 86,
      "outputs": [
        {
          "output_type": "execute_result",
          "data": {
            "text/plain": [
              "0.9827062882186588"
            ]
          },
          "metadata": {
            "tags": []
          },
          "execution_count": 86
        }
      ]
    },
    {
      "cell_type": "code",
      "metadata": {
        "colab": {
          "base_uri": "https://localhost:8080/"
        },
        "id": "qoFaC42w336m",
        "outputId": "72a7313e-d9d6-46d3-809e-5e825915652e"
      },
      "source": [
        "#accuracy of test data\n",
        "y_pred = classifier.predict(X_test)\n",
        "accuracy = accuracy_score(y_test, y_pred)\n",
        "accuracy"
      ],
      "execution_count": 87,
      "outputs": [
        {
          "output_type": "execute_result",
          "data": {
            "text/plain": [
              "0.7067916315017989"
            ]
          },
          "metadata": {
            "tags": []
          },
          "execution_count": 87
        }
      ]
    },
    {
      "cell_type": "code",
      "metadata": {
        "id": "LvgOvi8ZsV9F"
      },
      "source": [
        "# Predicting the Test set results\n",
        "y_pred = classifier.predict(X_test)\n",
        "\n",
        "# Making the Confusion Matrix\n"
      ],
      "execution_count": null,
      "outputs": []
    },
    {
      "cell_type": "markdown",
      "metadata": {
        "id": "bpQl7J1zXmxM"
      },
      "source": [
        "#XGBoost"
      ]
    },
    {
      "cell_type": "markdown",
      "metadata": {
        "id": "XkofV_fnXqpt"
      },
      "source": [
        "#LGBM"
      ]
    }
  ]
}